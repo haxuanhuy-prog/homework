{
 "cells": [
  {
   "cell_type": "code",
   "execution_count": 1,
   "id": "7891af06-e1d4-4658-bee1-0e534cd4d32f",
   "metadata": {},
   "outputs": [
    {
     "name": "stdin",
     "output_type": "stream",
     "text": [
      " 2\n"
     ]
    },
    {
     "name": "stdout",
     "output_type": "stream",
     "text": [
      "4\n"
     ]
    }
   ],
   "source": [
    "#bai1\n",
    "n=int(input())\n",
    "print(n*2)\n"
   ]
  },
  {
   "cell_type": "code",
   "execution_count": null,
   "id": "0465e373-074f-4c97-b2e9-3edbb44ab257",
   "metadata": {},
   "outputs": [],
   "source": [
    "#bai2\n",
    "a=int(input(\"nhập chiều rộng a:\"))\n",
    "b=int(input(\"nhập chiều dài b:\"))\n",
    "if a>b or a<=0 or b<=0:\n",
    "    print(\"nhập lại!\")\n",
    "else:\n",
    "    S=a*b\n",
    "    circle=3.14*(a/2)**2\n",
    "    result=S-circle\n",
    "    print(f\"diện tích để trồng cây là:{result:.2f}\")"
   ]
  },
  {
   "cell_type": "code",
   "execution_count": null,
   "id": "4c9b0d8a-7507-4e31-9628-204961199953",
   "metadata": {},
   "outputs": [],
   "source": [
    "#bai3\n",
    "c=input()\n",
    "c=input()\n",
    "if c.isupper():\n",
    "    print(c.lower())\n",
    "elif c.islower():\n",
    "    print(c.upper())\n",
    "else:\n",
    "    print(\"ERROR\")"
   ]
  },
  {
   "cell_type": "code",
   "execution_count": null,
   "id": "32f03a4c-6d19-43b4-88c3-c3e1faac6dad",
   "metadata": {},
   "outputs": [],
   "source": [
    "#bai4\n",
    "c=input()\n",
    "if c.isalpha():\n",
    "    print(f\"{c} là alphabet\")\n",
    "else:\n",
    "    print(f\"{c} ko là alphabet\")"
   ]
  },
  {
   "cell_type": "code",
   "execution_count": null,
   "id": "2fcccbeb-5a05-4b74-a1b1-00d89643c780",
   "metadata": {},
   "outputs": [],
   "source": [
    "#bai5\n",
    "c=input()\n",
    "c=input()\n",
    "if  c==\"A\":\n",
    "    print(\"không hợp lệ\")\n",
    "else:\n",
    "    a=ord(c)+31\n",
    "    print(chr(a))\n"
   ]
  },
  {
   "cell_type": "code",
   "execution_count": null,
   "id": "cb112892-5b88-4aec-92ce-cab5c492232f",
   "metadata": {},
   "outputs": [],
   "source": [
    "#bai6\n",
    "a=int(input(\"nhập độ dài cạnh tam giác a:\"))\n",
    "b=int(input(\"nhập độ dài cạnh tam giác b:\"))\n",
    "c=int(input(\"nhập độ dài cạnh tam giác c:\"))\n",
    "if a+b>c and a+c>b and b+c>a and a>0 and b>0 and c>0:\n",
    "    p=(a+b+c)/2\n",
    "    S=(p*(p-a)*(p-b)*(p-c))**0.5    \n",
    "    print(f\"diện tích tam giác là:{S:.1f}\")\n",
    "else:\n",
    "    print(\"không phải tam giác\")"
   ]
  },
  {
   "cell_type": "code",
   "execution_count": null,
   "id": "1ef92659-44dd-4692-b5c0-814927d63b3a",
   "metadata": {},
   "outputs": [],
   "source": [
    "#bai7\n",
    "s=input()\n",
    "if len(s)<20:\n",
    "    print(\"chuỗi không hợp lệ\")\n",
    "else:\n",
    "    print(s[4])\n",
    "    print(s[8])"
   ]
  },
  {
   "cell_type": "code",
   "execution_count": 2,
   "id": "18b9c713-1dec-4c55-b0fb-9cf2613bd93f",
   "metadata": {},
   "outputs": [
    {
     "name": "stdin",
     "output_type": "stream",
     "text": [
      "tên chủ hộ: huy\n",
      "chỉ số tiêu thụ tháng trước: 2000\n",
      "chỉ số tiêu thụ tháng này: 2586\n"
     ]
    },
    {
     "name": "stdout",
     "output_type": "stream",
     "text": [
      "chủ hộ:huy\n",
      "số tiền điện phải trả:1855505 đồng\n"
     ]
    }
   ],
   "source": [
    "#bai8\n",
    "name=input(\"tên chủ hộ:\")\n",
    "cstt=int(input(\"chỉ số tiêu thụ tháng trước:\"))\n",
    "cstn=int(input(\"chỉ số tiêu thụ tháng này:\"))\n",
    "if cstn>=cstt and cstn>=0 and cstt>=0:\n",
    "    csd=cstn-cstt\n",
    "    if csd<=50:\n",
    "        tien=(csd*1984)*1.08   \n",
    "    elif csd<=100:\n",
    "        tien=(50*1984+(csd-50)*2050)*1.08\n",
    "    elif csd<=200:\n",
    "        tien=(50*1984+50*2050+(csd-100)*2380)*1.08\n",
    "    elif csd<=300:\n",
    "        tien=(50*1984+50*2050+100*2380+(csd-200)*2998)*1.08\n",
    "    elif csd<=400:\n",
    "        tien=(50*1984+50*2050+100*2380+100*2998+(csd-300)*3350)*1.08\n",
    "    else:\n",
    "        tien=(50*1984+50*2050+100*2380+100*2998+100*3350+(csd-400)*3460)*1.08\n",
    "    print(f\"chủ hộ:{name}\")\n",
    "    print(f\"số tiền điện phải trả:{tien:.0f} đồng\")\n",
    "else:\n",
    "    print(\"chỉ số không hợp lệ!\")    "
   ]
  },
  {
   "cell_type": "code",
   "execution_count": null,
   "id": "5e0e039e-cdd1-458c-ab49-530779372b72",
   "metadata": {},
   "outputs": [],
   "source": []
  }
 ],
 "metadata": {
  "kernelspec": {
   "display_name": "Python 3 (ipykernel)",
   "language": "python",
   "name": "python3"
  },
  "language_info": {
   "codemirror_mode": {
    "name": "ipython",
    "version": 3
   },
   "file_extension": ".py",
   "mimetype": "text/x-python",
   "name": "python",
   "nbconvert_exporter": "python",
   "pygments_lexer": "ipython3",
   "version": "3.13.7"
  }
 },
 "nbformat": 4,
 "nbformat_minor": 5
}
