{
 "cells": [
  {
   "cell_type": "code",
   "execution_count": 1,
   "id": "946e9048-b5ba-43be-8424-c2df9128a0fc",
   "metadata": {},
   "outputs": [
    {
     "name": "stdin",
     "output_type": "stream",
     "text": [
      " 23456\n"
     ]
    },
    {
     "name": "stdout",
     "output_type": "stream",
     "text": [
      "Reversed number is 65432\n"
     ]
    }
   ],
   "source": [
    "#chữ số đảo ngược\n",
    "n=int(input())\n",
    "def reverse_number(n):\n",
    "    return int(str(n)[::-1])\n",
    "print(f\"Reversed number is {reverse_number(n)}\")\n",
    "      "
   ]
  },
  {
   "cell_type": "code",
   "execution_count": null,
   "id": "ea748625-6185-4a04-9462-53f746c2b93f",
   "metadata": {},
   "outputs": [],
   "source": [
    "#hoán đổi\n",
    "a,b=map(int,input().split())\n",
    "a = a ^ b\n",
    "b = a ^ b\n",
    "a = a ^ b\n",
    "print(a, b)"
   ]
  },
  {
   "cell_type": "code",
   "execution_count": null,
   "id": "243a3f93-7831-44b2-9f0a-c1d49ccb75fe",
   "metadata": {},
   "outputs": [],
   "source": [
    "#luỹ thừa của 2\n",
    "n=int(input())\n",
    "if n&(n-1)==0 :\n",
    "    print(\"true\")\n",
    "else:\n",
    "    print(\"false\")"
   ]
  },
  {
   "cell_type": "code",
   "execution_count": 8,
   "id": "51ebb33b-3228-4643-a90f-1488bbe20a53",
   "metadata": {},
   "outputs": [
    {
     "name": "stdin",
     "output_type": "stream",
     "text": [
      " 67426 11\n"
     ]
    },
    {
     "name": "stdout",
     "output_type": "stream",
     "text": [
      "6129\n"
     ]
    }
   ],
   "source": [
    "#chia làm tròn xuống\n",
    "m,n=map(float,input().split())\n",
    "i=m/n\n",
    "print(int(i))"
   ]
  },
  {
   "cell_type": "code",
   "execution_count": 7,
   "id": "ddd5bfe3-faa2-44d8-87ba-2f19be607949",
   "metadata": {},
   "outputs": [
    {
     "name": "stdin",
     "output_type": "stream",
     "text": [
      " 67426 11\n"
     ]
    },
    {
     "name": "stdout",
     "output_type": "stream",
     "text": [
      "6130\n"
     ]
    }
   ],
   "source": [
    "#làm tròn lên\n",
    "m,n=map(int,input().split())\n",
    "if m%n==0:\n",
    "    i=m/n\n",
    "    print(f\"{i:.0f}\")\n",
    "else:\n",
    "    i=m//n\n",
    "    print(i+1)"
   ]
  },
  {
   "cell_type": "code",
   "execution_count": null,
   "id": "51713fc1-2459-4b20-9bc1-93296c2d6901",
   "metadata": {},
   "outputs": [],
   "source": [
    "#even and odd\n",
    "x=int(input())\n",
    "if x%2==0:\n",
    "    print(\"even\")   \n",
    "else:\n",
    "    print(\"odd\")"
   ]
  },
  {
   "cell_type": "code",
   "execution_count": null,
   "id": "8c3fe195-a06a-4927-bbc9-bb808087f277",
   "metadata": {},
   "outputs": [],
   "source": [
    "#kiểm tra số âm\n",
    "a=int(input(\"nhập số a:\"))\n",
    "b=int(input(\"nhập số b:\"))\n",
    "if a<0 and b<0:\n",
    "    print(\"yes\")\n",
    "else:\n",
    "    print(\"no\")"
   ]
  },
  {
   "cell_type": "code",
   "execution_count": null,
   "id": "7bd7b417-7f4d-42ec-9366-ce72767b8688",
   "metadata": {},
   "outputs": [],
   "source": [
    "#longer string\n",
    "a=input()\n",
    "b=input()\n",
    "if len(a)>len(b):\n",
    "    print(\"true\")\n",
    "else:\n",
    "    print(\"false\")"
   ]
  },
  {
   "cell_type": "code",
   "execution_count": null,
   "id": "b75cbb11-7317-4071-af9e-7d048abf2349",
   "metadata": {},
   "outputs": [],
   "source": [
    "#triangle\n",
    "a=int(input(\"nhập độ dài cạnh tam giác a:\"))\n",
    "b=int(input(\"nhập độ dài cạnh tam giác b:\"))\n",
    "c=int(input(\"nhập độ dài cạnh tam giác c:\"))\n",
    "if a+b>c and a+c>b and b+c>a and a>0 and b>0 and c>0:\n",
    "    print(\"yes\")\n",
    "else:\n",
    "    print(\"no\")"
   ]
  },
  {
   "cell_type": "code",
   "execution_count": null,
   "id": "308f58b2-02b0-4837-b024-44079b139935",
   "metadata": {},
   "outputs": [],
   "source": [
    "#largest number\n",
    "a=int(input())\n",
    "b=int(input())\n",
    "c=int(input())      \n",
    "d=int(input())\n",
    "print(max(a,b,c,d))"
   ]
  },
  {
   "cell_type": "code",
   "execution_count": null,
   "id": "cc1365a2-0f35-4644-b6cd-a2b5d0acfe76",
   "metadata": {},
   "outputs": [],
   "source": [
    "#phân loại tam giác\n",
    "a=int(input(\"nhập độ dài cạnh tam giác a:\"))\n",
    "b=int(input(\"nhập độ dài cạnh tam giác b:\"))\n",
    "c=int(input(\"nhập độ dài cạnh tam giác c:\"))\n",
    "if a+b<c or a+c<b or b+c<a or a<=0 or b<=0 or c<=0:\n",
    "    print(\"ko phai tam giác\")\n",
    "elif a==b and b==c:\n",
    "    print(\"tam giác đều\")   \n",
    "elif a==b or b==c or a==c:\n",
    "    print(\"tam giác cân\")\n",
    "else:\n",
    "    print(\"tam giác thường\")"
   ]
  },
  {
   "cell_type": "code",
   "execution_count": null,
   "id": "592096bb-4606-401c-bcb3-799e97056c50",
   "metadata": {},
   "outputs": [],
   "source": [
    "#năm nhuận\n",
    "n=int(input(\"nhập năm:\"))\n",
    "if (n%4==0 and n%100!=0) or (n%400==0):\n",
    "    print(f\"{n} là năm nhuận\")\n",
    "else:\n",
    "    print(f\"{n} không phải năm nhuận\")"
   ]
  },
  {
   "cell_type": "code",
   "execution_count": 3,
   "id": "8cfed52d-d4a7-4a87-b4f2-358cb90f7a3a",
   "metadata": {},
   "outputs": [
    {
     "name": "stdin",
     "output_type": "stream",
     "text": [
      "nhập số điện tiêu thụ:  70\n"
     ]
    },
    {
     "name": "stdout",
     "output_type": "stream",
     "text": [
      "115000\n"
     ]
    }
   ],
   "source": [
    "#tiền điện\n",
    "n=int(input(\"nhập số điện tiêu thụ: \"))\n",
    "if n<=50 and n>=0:\n",
    "    tien=n*1500\n",
    "elif n<=100:\n",
    "    tien=50*1500+(n-50)*2000\n",
    "else:\n",
    "    tien=50*1500+50*2000+(n-100)*3000\n",
    "print(tien)"
   ]
  },
  {
   "cell_type": "code",
   "execution_count": null,
   "id": "0e04f3ab-34f1-4de7-8c38-b7b37aa94d8b",
   "metadata": {},
   "outputs": [],
   "source": [
    "#giải phương trình\n",
    "a=float(input(\"nhập a:\"))\n",
    "b=float(input(\"nhập b:\"))\n",
    "if a==b==0:\n",
    "    print(\"phương trình có vô số nghiệm\")\n",
    "elif a==0 and b!=0:\n",
    "    print(\"phương trình vô nghiệm\")\n",
    "else:\n",
    "    x=-b/a\n",
    "    print(f\"phương trình có nghiệm x={x:.2f}\")"
   ]
  },
  {
   "cell_type": "code",
   "execution_count": null,
   "id": "1883e2f3-63af-4f0c-8490-8d870be08730",
   "metadata": {},
   "outputs": [],
   "source": [
    "#xếp học lực\n",
    "a=float(input(\"nhập điểm trung bình:\"))\n",
    "if a>=8 and a<=10:\n",
    "    print(\"giỏi\")\n",
    "elif a>=6.5 and a<8:\n",
    "    print(\"khá\")\n",
    "elif a>=5 and a<6.5:\n",
    "    print(\"trung bình\")\n",
    "elif a>=0 and a<5:\n",
    "    print(\"yếu\")\n",
    "else:\n",
    "    print(\"nhập lại!\")\n"
   ]
  },
  {
   "cell_type": "code",
   "execution_count": 5,
   "id": "1fc81864-c076-422c-b408-57344157af89",
   "metadata": {},
   "outputs": [
    {
     "name": "stdin",
     "output_type": "stream",
     "text": [
      "nhập a: 7.7\n"
     ]
    },
    {
     "name": "stdout",
     "output_type": "stream",
     "text": [
      "8 7 8\n"
     ]
    }
   ],
   "source": [
    "#làm tròn\n",
    "a=float(input(\"nhập a:\"))\n",
    "if a==int(a):\n",
    "    print(f\"{a:.0f} {a:.0f} {a:.0f}\")\n",
    "elif a>0:\n",
    "    print(f\"{int(a)+1} {int(a)} {a:.0f}\")\n",
    "else:\n",
    "    print(f\"{int(a)} {int(a)-1} {a:.0f}\")\n",
    "\n"
   ]
  },
  {
   "cell_type": "code",
   "execution_count": null,
   "id": "a05a34cd-5c02-4331-873d-a087dbfb144e",
   "metadata": {},
   "outputs": [],
   "source": []
  }
 ],
 "metadata": {
  "kernelspec": {
   "display_name": "Python 3 (ipykernel)",
   "language": "python",
   "name": "python3"
  },
  "language_info": {
   "codemirror_mode": {
    "name": "ipython",
    "version": 3
   },
   "file_extension": ".py",
   "mimetype": "text/x-python",
   "name": "python",
   "nbconvert_exporter": "python",
   "pygments_lexer": "ipython3",
   "version": "3.13.7"
  }
 },
 "nbformat": 4,
 "nbformat_minor": 5
}
