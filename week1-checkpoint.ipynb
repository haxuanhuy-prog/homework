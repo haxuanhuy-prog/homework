{
 "cells": [
  {
   "cell_type": "code",
   "execution_count": 4,
   "id": "d50dcbdc-8206-4ea8-a9d4-4c9d9ddef23a",
   "metadata": {},
   "outputs": [
    {
     "name": "stdout",
     "output_type": "stream",
     "text": [
      "Hello World!\n"
     ]
    }
   ],
   "source": [
    "#w2a1\n",
    "print(\"Hello World!\")"
   ]
  },
  {
   "cell_type": "code",
   "execution_count": 5,
   "id": "76ab6bb0-6c09-4c66-9c8c-1efb68e6d108",
   "metadata": {},
   "outputs": [
    {
     "name": "stdin",
     "output_type": "stream",
     "text": [
      "Nhập tên:  huy\n"
     ]
    },
    {
     "name": "stdout",
     "output_type": "stream",
     "text": [
      "Xin chào huy\n"
     ]
    }
   ],
   "source": [
    "#w2a2\n",
    "ten=input(\"Nhập tên: \")\n",
    "print(\"Xin chào\",ten)"
   ]
  },
  {
   "cell_type": "code",
   "execution_count": 1,
   "id": "4d6e0c7b-0b6b-44a7-a281-a3506d6d130b",
   "metadata": {},
   "outputs": [
    {
     "name": "stdin",
     "output_type": "stream",
     "text": [
      "nhập số nguyên a:  5\n",
      "nhập số nguyên b:  10\n"
     ]
    },
    {
     "name": "stdout",
     "output_type": "stream",
     "text": [
      "5+10=15\n",
      "5-10=-5\n",
      "5*10=50\n",
      "5//10=0\n",
      "5%10=5\n",
      "5/10=0.50\n"
     ]
    }
   ],
   "source": [
    "#w2a3\n",
    "a=int(input(\"nhập số nguyên a: \"))\n",
    "b=int(input(\"nhập số nguyên b: \"))\n",
    "tong=a+b\n",
    "hieu=a-b\n",
    "tich=a*b    \n",
    "phan_nguyen=a//b\n",
    "phan_du=a%b\n",
    "chia=a/b\n",
    "print(f\"{a}+{b}={tong}\") \n",
    "print(f\"{a}-{b}={hieu}\")\n",
    "print(f\"{a}*{b}={tich}\")       \n",
    "print(f\"{a}//{b}={phan_nguyen}\")\n",
    "print(f\"{a}%{b}={phan_du}\")\n",
    "print(f\"{a}/{b}={chia:.2f}\")   "
   ]
  },
  {
   "cell_type": "code",
   "execution_count": null,
   "id": "529c2a66-2348-43f2-b9c3-d8edfac1f4c5",
   "metadata": {},
   "outputs": [],
   "source": [
    "#w2a4\n",
    "scores=input().split()\n",
    "a1,b1,c1,a2,b2,a3=map(float,scores)\n",
    "diemtb=((a1+b1+c1)+(a2+b2)*2+a3*3)/10\n",
    "print(\"diem trung binh:\",f\"{diemtb:.2f}\")scores=input().split()\n",
    "a1,b1,c1,a2,b2,a3=map(float,scores)\n",
    "diemtb=((a1+b1+c1)+(a2+b2)*2+a3*3)/10\n",
    "print(\"diem trung binh:\",f\"{diemtb:.2f}\")"
   ]
  },
  {
   "cell_type": "code",
   "execution_count": null,
   "id": "31ff6135-d13e-42ac-aad2-8b5e5fa5f270",
   "metadata": {},
   "outputs": [],
   "source": [
    "#w2a5\n",
    "a,b=map(int,input().split())\n",
    "r=a**b\n",
    "print(f\"{a}^{b}={r}\")"
   ]
  },
  {
   "cell_type": "code",
   "execution_count": 6,
   "id": "8cab65ec-2e3c-4537-aef3-d6cb7aee08be",
   "metadata": {},
   "outputs": [
    {
     "name": "stdin",
     "output_type": "stream",
     "text": [
      "nhập một kí tự thường: f\n"
     ]
    },
    {
     "name": "stdout",
     "output_type": "stream",
     "text": [
      "mã unicode của kí tự f là: 102\n",
      "kí tự in hoa tương ứng là: F\n"
     ]
    }
   ],
   "source": [
    "#w2a6\n",
    "s=input(\"nhập một kí tự thường:\")\n",
    "if len(s)==1 and \"a\"<=s<=\"z\":\n",
    "    print(\"mã unicode của kí tự\",s,\"là:\",ord(s))\n",
    "    print(\"kí tự in hoa tương ứng là:\",chr(ord(s)-32))\n",
    "else:\n",
    "    print(\"vui lòng nhập đúng một kí tự thường\")"
   ]
  },
  {
   "cell_type": "code",
   "execution_count": null,
   "id": "0400f872-301e-4f67-a2b3-03ced20e4420",
   "metadata": {},
   "outputs": [],
   "source": [
    "#w2a7\n",
    "A=((13**2)*3)+5\n",
    "B=13**2*3+5\n",
    "print(\"A=\",A)\n",
    "print(\"B=\",B)"
   ]
  },
  {
   "cell_type": "code",
   "execution_count": null,
   "id": "4684c2e4-1f3e-4570-a228-b47884bb91fa",
   "metadata": {},
   "outputs": [],
   "source": [
    "#w2a8\n",
    "C=float(input(\"nhập nhiệt độ C: \"))\n",
    "F=(9*C)/5+32\n",
    "print(\"nhiệt độ F:\",f\"{F:.2f}\")"
   ]
  },
  {
   "cell_type": "code",
   "execution_count": null,
   "id": "af8cb5a2-54ae-4558-a173-e49a9217accf",
   "metadata": {},
   "outputs": [],
   "source": [
    "#w2a9\n",
    "x=int(input(\"nhập giá gốc đồng hồ(USD): \"))\n",
    "y=x+x*0.4+10\n",
    "print(\"tổng số tiền phải trả:\",y,\"USD\")"
   ]
  },
  {
   "cell_type": "code",
   "execution_count": null,
   "id": "928e91ba-1886-4402-9171-b967e0ca25ea",
   "metadata": {},
   "outputs": [],
   "source": [
    "#w2a10\n",
    "names_input=input(\"Nhập tên 3 người cách nhau một dấu cách:\")\n",
    "name=names_input.split()\n",
    "if len(name)==3:\n",
    "    print(f\"Hi {name[2]}, {name[1]} and {name[0]}!\")\n",
    "else:\n",
    "    print(\"Vui lòng nhập đúng 3 tên!\")"
   ]
  },
  {
   "cell_type": "code",
   "execution_count": null,
   "id": "6465e092-dba8-4ef8-b9f5-abce5ef5adec",
   "metadata": {},
   "outputs": [],
   "source": [
    "#w2a11\n",
    "=int(input(\"nhập số giờ:\"))\n",
    "m=int(input(\"nhập số phút:\"))\n",
    "if m>=60:\n",
    "    print(\"số phút không hợp lệ, vui lòng nhập lại!\")\n",
    "else :    \n",
    "    s=3600*h+60*m\n",
    "    print(f\"{h} giờ {m} phút = {s} giây\")"
   ]
  },
  {
   "cell_type": "code",
   "execution_count": null,
   "id": "65f0ae5e-b2db-4c7a-a5be-176604c7d771",
   "metadata": {},
   "outputs": [],
   "source": [
    "#w2a12\n",
    "n = int(input(\"Nhập độ dài cạnh rubik: \"))\n",
    "so_mieng_dan = 6 * n * n\n",
    "print(f\"số miếng dán khối {n}x{n}x{n} là:\", so_mieng_dan)"
   ]
  },
  {
   "cell_type": "code",
   "execution_count": null,
   "id": "46631266-4f3c-4fc8-87d7-ffe5924fbd67",
   "metadata": {},
   "outputs": [],
   "source": [
    "#w2a13\n",
    "a=int(input(\"nhập số a:\"))\n",
    "b=int(input(\"nhập số b:\"))\n",
    "x=a*b\n",
    "print(f\"chữ số hàng đon vị của {x} là:\", x%10)\n"
   ]
  },
  {
   "cell_type": "code",
   "execution_count": null,
   "id": "b7135ef4-2cc8-4aec-aa23-fdb73f508861",
   "metadata": {},
   "outputs": [],
   "source": [
    "#w2a14\n",
    "a=5\n",
    "b=7\n",
    "print(f\"trước khi hoán đổi: a={a}, b={b}\")\n",
    "a, b = b, a\n",
    "print(f\"sau khi hoán đổi: a={a}, b={b}\")"
   ]
  },
  {
   "cell_type": "code",
   "execution_count": 8,
   "id": "04e502df-9f0f-47f1-b099-b40f81bd951a",
   "metadata": {},
   "outputs": [
    {
     "name": "stdin",
     "output_type": "stream",
     "text": [
      " 3\n"
     ]
    },
    {
     "name": "stdout",
     "output_type": "stream",
     "text": [
      "so sao thu 3 la 37\n"
     ]
    }
   ],
   "source": [
    "#w2a15\n",
    "n=int(input())\n",
    "print(f\"so sao thu {n} la {6*n*(n-1)+1}\")"
   ]
  },
  {
   "cell_type": "code",
   "execution_count": null,
   "id": "392cde81-5bfb-47c2-8210-b8a2bcae1809",
   "metadata": {},
   "outputs": [],
   "source": [
    "#w2a16\n",
    "seasons=[\"spring\", \"summer\", \"autumn\", \"winter\"]\n",
    "for s in seasons:\n",
    "    print(s)"
   ]
  },
  {
   "cell_type": "code",
   "execution_count": null,
   "id": "8c0adacc-f177-4632-a48e-a82645d1be6b",
   "metadata": {},
   "outputs": [],
   "source": [
    "#w2a17\n",
    "print(\"*\")\n",
    "print(\"***\")\n",
    "print(\"*****\")\n"
   ]
  },
  {
   "cell_type": "code",
   "execution_count": 3,
   "id": "c49630b9-a720-448d-bbfd-9c37309b8886",
   "metadata": {},
   "outputs": [
    {
     "name": "stdout",
     "output_type": "stream",
     "text": [
      "### # #   ### ###\n",
      " #  #   #  #   #\n",
      " #  #    # #   #\n",
      " #  #   #  #   #\n",
      " #  # #    #   #\n"
     ]
    }
   ],
   "source": [
    "#w2a18\n",
    "print(\"### # #   ### ###\")\n",
    "print(\" #  #   #  #   #\")\n",
    "print(\" #  #    # #   #\")\n",
    "print(\" #  #   #  #   #\")\n",
    "print(\" #  # #    #   #\")"
   ]
  },
  {
   "cell_type": "code",
   "execution_count": null,
   "id": "a8802e49-c10a-415f-a00d-d0f13d5baed0",
   "metadata": {},
   "outputs": [],
   "source": [
    "#w2a19\n",
    "days=['Monday', 'Tuesday', 'Wednesday', 'Thursday', 'Friday', 'Saturday', 'Sunday']\n",
    "for d in days:\n",
    "    print(d)"
   ]
  },
  {
   "cell_type": "code",
   "execution_count": null,
   "id": "994ee3f4-f7d3-4c84-94b8-f6b0fff39e46",
   "metadata": {},
   "outputs": [],
   "source": [
    "#w2a20\n",
    "months=['January', 'February', 'March', 'April', 'May', 'June', 'July', 'August', 'September', 'October', 'November', 'December']\n",
    "for m in months:\n",
    "    print(m)"
   ]
  },
  {
   "cell_type": "code",
   "execution_count": 2,
   "id": "d726c34a-9664-4a10-a55a-d6412ce826e8",
   "metadata": {},
   "outputs": [
    {
     "name": "stdout",
     "output_type": "stream",
     "text": [
      "Hello World\n",
      "Hello World\n",
      "Hello World\n",
      "Hello World\n",
      "Hello World\n",
      "Hello World\n",
      "Hello World\n",
      "Hello World\n",
      "Hello World\n",
      "Hello World\n"
     ]
    }
   ],
   "source": [
    "#w2a21\n",
    "for i in range(1, 11):\n",
    "    print(\"Hello World\")\n"
   ]
  },
  {
   "cell_type": "code",
   "execution_count": null,
   "id": "aa3a737a-486f-40a3-a5de-89ce72fb2bae",
   "metadata": {},
   "outputs": [],
   "source": []
  }
 ],
 "metadata": {
  "kernelspec": {
   "display_name": "Python 3 (ipykernel)",
   "language": "python",
   "name": "python3"
  },
  "language_info": {
   "codemirror_mode": {
    "name": "ipython",
    "version": 3
   },
   "file_extension": ".py",
   "mimetype": "text/x-python",
   "name": "python",
   "nbconvert_exporter": "python",
   "pygments_lexer": "ipython3",
   "version": "3.13.7"
  }
 },
 "nbformat": 4,
 "nbformat_minor": 5
}
